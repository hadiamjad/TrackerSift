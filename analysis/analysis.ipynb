{
  "nbformat": 4,
  "nbformat_minor": 0,
  "metadata": {
    "colab": {
      "name": "Web Refactoring.ipynb",
      "provenance": [],
      "toc_visible": true
    },
    "kernelspec": {
      "name": "python3",
      "display_name": "Python 3"
    }
  },
  "cells": [
    {
      "cell_type": "markdown",
      "metadata": {
        "id": "brGVvKcszUAV"
      },
      "source": [
        "#### Download\n"
      ]
    },
    {
      "cell_type": "code",
      "metadata": {
        "id": "yF6U2hFTzNiy"
      },
      "source": [
        "!pip install adblockparser\n",
        "!pip install beautifulsoup4\n",
        "!pip install virustotal-python\n",
        "!pip install tldextract\n",
        "!pip install xlsxwriter\n",
        "!pip install python-whois\n",
        "!pip install graphviz"
      ],
      "execution_count": null,
      "outputs": []
    },
    {
      "cell_type": "markdown",
      "metadata": {
        "id": "OVr87gBUzZ2I"
      },
      "source": [
        "#### Import"
      ]
    },
    {
      "cell_type": "code",
      "metadata": {
        "id": "va2eliSP1ZjU"
      },
      "source": [
        "import pandas as pd\n",
        "import numpy as np\n",
        "import whois\n",
        "import os\n",
        "import json\n",
        "import math\n",
        "import ast \n",
        "import sqlite3\n",
        "import requests\n",
        "import time\n",
        "import tldextract\n",
        "import xlsxwriter\n",
        "import matplotlib.pyplot as plt\n",
        "import seaborn as sns\n",
        "from graphviz import Digraph\n",
        "import requests\n",
        "from bs4 import BeautifulSoup\n",
        "from urllib.parse import urlparse\n",
        "from adblockparser import AdblockRules\n",
        "from virustotal_python import Virustotal\n",
        "from pprint import pprint"
      ],
      "execution_count": null,
      "outputs": []
    },
    {
      "cell_type": "markdown",
      "metadata": {
        "id": "vFJUM1S911v8"
      },
      "source": [
        "#### Mount"
      ]
    },
    {
      "cell_type": "code",
      "metadata": {
        "id": "EIueuOT82BuS",
        "colab": {
          "base_uri": "https://localhost:8080/"
        },
        "outputId": "da87627e-303a-4705-ac7c-5bdad067ab8f"
      },
      "source": [
        "from google.colab import drive\n",
        "drive.mount('/content/drive')"
      ],
      "execution_count": null,
      "outputs": [
        {
          "output_type": "stream",
          "text": [
            "Mounted at /content/drive\n"
          ],
          "name": "stdout"
        }
      ]
    },
    {
      "cell_type": "markdown",
      "metadata": {
        "id": "-T46MS5N2ID8"
      },
      "source": [
        "#### EasyList & EasyPrivacyList\n",
        "- update the EasyList and EasyPrivacyList file paths\n",
        "\n",
        "`CheckTrackingReq(rules, url, top_level_url, resource_type)`"
      ]
    },
    {
      "cell_type": "code",
      "metadata": {
        "id": "WYvSamB52IcK"
      },
      "source": [
        "# Description: append the filter rules list\n",
        "# input: filename = file containing easylist and easyprivacylist \n",
        "# return: Adblock rules object\n",
        "def getRules(filename):\n",
        "    df = pd.read_excel(filename)\n",
        "    rules = []\n",
        "    for i in df.index:\n",
        "        rules.append(df['url'][i])\n",
        "    Rules = AdblockRules(rules)\n",
        "    return Rules\n",
        "\n",
        "# Description: setting predefined rules\n",
        "easylist = getRules('/content/EasyPrivacyList.xlsx')\n",
        "easyPrivacylist = getRules('/content/easyList.xlsx')\n",
        "\n",
        "# Description: extract domain from given url\n",
        "# input: url = url for which domain is needed\n",
        "# return: domain\n",
        "def getDomain(url):\n",
        "    ext = tldextract.extract(url)\n",
        "    return ext.domain+\".\"+ext.suffix\n",
        "\n",
        "# Description: check if its thirparty request\n",
        "# input: url = url \n",
        "# input: top_level_url = top_level_url \n",
        "# return: returns True if its thirdparty request otherwise false\n",
        "def isThirdPartyReq(url, top_level_url):\n",
        "    d_url = getDomain(url)\n",
        "    d_top_level_url = getDomain(top_level_url)\n",
        "    if d_url == d_top_level_url:\n",
        "        return False\n",
        "    else:\n",
        "        return True\n",
        "\n",
        "# Description: check if the request is tracking or non-tracking\n",
        "# input: rules = Adblock rules object \n",
        "# input: url = url \n",
        "# input: top_level_url = top_level_url \n",
        "# input: resource_type = resource_type \n",
        "# return: returns True if it has tracking status otherwise false\n",
        "def CheckTrackingReq(rules, url, top_level_url, resource_type):\n",
        "    return int(rules.should_block(url, { resource_type: resource_type, 'domain' : getDomain(url), 'third-party': isThirdPartyReq(url, top_level_url) }))"
      ],
      "execution_count": null,
      "outputs": []
    },
    {
      "cell_type": "markdown",
      "metadata": {
        "id": "f1i4z6rg3_LO"
      },
      "source": [
        "#### Check Ancestor Nodes for Tracking Behavior\n",
        "`CheckAncestoralNodes(df, row.call_stack)`\n",
        "\n",
        "`callstack` -> `stack` & `type`='Script' -> `callframes` & `parent`\n",
        "\n",
        "![image.png](data:image/png;base64,iVBORw0KGgoAAAANSUhEUgAAAOsAAACNCAYAAABWp42SAAAVqUlEQVR4Ae2d68tt11XG+9f1k+gnFQRBKtISERXxgngpsVApLYKlhtZA/aJS+6E1CWrrjRa8YS5USO3JIQn4IRZjk0PaGE4qZ8tve36nz55nrrUv797vXpcxYZ+51phjjjHmM8ez5jrvmnuvD2yOLA8ePNh8+dnnNk997unN/fv3R3s//8KLm5/+yM9u3nr77e2HY2SULz3z7OaDP/Qj28+P/sRPbl597fVHOsg//olPbn7jo08+po8ubb//mae2duiHTFvYpdCuzlYQ/2RcId4e0qYt/L/33ntbObaUO6bsix46jJVCjZ59Mpa0Zbz0ybGk7/RTx+tF4APHDh2y3rl7dy9Rj7U7d33ICcEk69zHU/FPD4GjyTq9IVwvIlZTCOrq6V3D9SIqz0tGoMi65NmtsS0KgSLroqazBrNkBIqsS57dGtuiECiyLmo6azBLRqDIuuTZrbEtCoFJkTWfTbbPGX026TPZU2fBv+Dm881TbBFPPjs9xUb2wdbYX5PF5iY+sX+T/hlvHd8+ApMiq8OHSC1ZaWPTwIc+/MS2VvfY+tpklXQ87skLzz6yHjvOnn6RtYfKfGQXJ2svOVNG0rZX+3OQNXcDSQqS1Wei1vqmVtbuUCIe21KfY8lPH8vQRUVdV1BqL0rY+pMv/Nmj3Vjq5DiIQTm+Mi6OLdkH+2/fu7fzPBg7YmKfqqePwElk/e73vrfhk+Wdd767+c533krRo0Q2wXcaH570EvumZJUUPb+2ZXJnXG075OglNrb5YKcld29M+EDOVkl8UKg5R44tidvqGR++JCs6T3/+jx6zw4XwF375V7t3H/TtYaL9qqeNwElkvfvqq5tf+83f3rz55n9vR8eV+2O/+4nNCy+9tDNaEmrotpWkcbXqrRgmbhocs5d6HGu/JVpLRvuRyBmPSU3tsbpj9lOnPe6REMIhx4dEhHCMnzpLkpXjjNdxjhFyrC391PE0ETiJrAzlziuvbAn7rTuvbH7ryY89RlR0hshF0phc3hKbqPQjEW9KVuxom6TGJqVHVvXUSYLm8dbAw3+QcyFiHPbL9t5xS9Z2ZRUD4jmErD2/Y4Qca+vFW7JpIXAyWRkGhP2ZJ36uS1TaJQGJnYWk8daRhLvEyqo/yWkM7XnGSVwQCgKqT3xeWLRJTTufXvxDFyl944dC7UUJWynXf/rEV+rYN3XAfOg2uL1YZL86nj4CNyIrw3v//fdHR2nye8tGskliZPlVONrUsyZBU195L1ENRFKo64XB9vQjKajRR5dbU+X0sY12/SJThxpCW4bISnvikXGlj5RrkzrJyvlQnxyf8aKfuPQuQOmrjqeHwI3JOr0hLTciyAkRq6wTgVmTNVcWV1HqJSW0t9mMi/FWWS8CsybreqetRr5GBIqsa5z1GvMsESiyznLaKug1IlBkXeOs15hniUCRdZbTVkGvEYHZknXsWeahE+lzR/7ieo6CPff6DtnzGehN/mJdj3CG0F22vMj60ScP3i6YqdDb3HAIWdPGqcdF1lORm3e/yZM1nzO6G6f3fJWVqt3p1D6XzH7YzZXVvviwYLO3mwjd3NKHLWxLVr7qxnPR3CWU40ibxtDqE0P24TgvEOjzERNjrnq5CFyFrId+xc7k7N0y7rsNbttJ9iQJUypRaINsbeIPkRV5XgggL33/89vf3ta2tXr6pJ0+FHw7PmL2K3TI2ni2HR5uM7SPsqqXj8BVyHroV+xc7XorSEtGpwoiuOpQk9RJSvWolaPXEjn12mNsSkjtcA5Z8/+sST5t4FOypn9jlqDoDBFyrE0/VS8PgauQFRgP+YqdcJO0JHPeVvbIip46Eh2ZpGAVy6L853/pV7b2h8iRfThGD8JYcmU9lqyprz3qMUKOtaWNOl4WAlcjKzDu+4pdQg05IaKEas/Rpc0VEmK6stJGgtumXcnqbbBEtz3tKaOGnGP/ZyU2CnZ7FwhiwQaF41YHOb5dZbeK8U/PbjTX4UIRuCpZwXTsK3YS0ltEEjsL57aR3K6myFixSHbkFImpPn2VkfweQ2jLEFlpp01bkkobrVx71OjgW7JmzPTLMeb4ktCJi77TRx0vE4Grk3WZsA6PCnJCMMk6rFkthcAuAkXWXTwuctauuK72F3FWRheLQJF1sVNbA1saAkXWpc1ojWexCBRZFzu1NbClIVBkXdqM1ngWi0CRdbFTWwNbGgJF1pjRfObZPr/0mWe7cSK612EhcFEEiqwdeNmA0JIVNTYjtK8DkcRuhMjNCx3TkxC5qaIeIU1iOg4OYnZk/f73/3fzr8+/sHn33XcPGmSulq6KKWt3DWH0WLLmriODQsaPhbMjCh+SOMnt9kdI46s4uEgg92KRz2iNHx/tGJJ4vYuKcVF/5W/+dvvxxVbIiC/jdUzYYjcYH8ZhzK3/HJ/H2MVOxpZx1PFxCMyOrA8ePNj8/de+vvm9T39mL2FNdBOvB00vsUk2yZJ9errY7tlHJrlIVpNce8aGL9upIS01/iEEdkz+jAt5L0bs9+JMv3zfVtvUFGwbIzL9Y4txEBMFvx5vBQ8vHKkPsRmfPjiucnMEZkdWhnwoYceSlqTz1pU6EzBJkRD37A3ZQc6nLfhJv+ggI9lf/ua/b78g8Nrrr2/rb37rzlae+hKKGJVn7K2/9pwxsLJSsGFfjvm0BX3J17bl2I0LYiKHqNju2Wzt1PlhCMySrAwNwv7BZ/9w86U/f2ZwpD1yoUwSueqRVCSaSUs7CdZbtXr2SEw+benJ9WUCq4PvHllf+sa/PRZb+nF1hrS9GFLXY3xL8uyH3LjUpR4iqzG7grqy0gc7tP/pF764JW3aq+PTEZglWSHql599bvPU557e3L9/f3D0kqNNZBLJlcDkRWZBdkmy4gsScMEgNs57ZEWH9l4sxkrd6vQuKujlqsc5+EgyxsynLWNkFdfEk/72gaxVzofA7Mh6KFGFiMSBFK4mJJYkRsYtHgmLnI961iRw6iuXQCSsSatP6jE5NrhY+LY6/GKvvQ0m9ta3vqiNxbsE/dOv/as1bcjzj0rGif9jyZpxgSHxIKO44mO3yvkQmCVZ79y9O7qing+esnQKApAW8kLaKudDYHZkPd/Qy9K5EXBFbVf6c/tZq70i61pnvsY9OwSKrLObsgp4rQgUWdc68zXu2SFQZJ3dlFXAa0WgyLrWma9xzw6BIuuFpsy/jPY2GpzikkchY88taeO565jOPr/7fOzrX+2XRaDIeiF8TyVrbuJwlxUh3gaRbsPHheBehdlFk5VVhp1B7LBx1xAP7HP3DXKSlIKcX9rvvQUu+0iiIX1XOXcYpQ/80K6NzDLtQVgKq7KxUROXu7FcQdHRT9r0YkFb+9wz+3CcFwhtuUMr46vj6yIwS7Ie+hY6SUNCmrwcZyFR3ZonIU1UCMLHvhJE+ZA+9u3T+qNtiKzIsW3BPrFQIzcuYm6/CYM/dNCl4Nd4Ux+ZdvRjTX/7KKt6OgjMkqyHvoWOxMvVhmTkQ6F2FaFGV/K1Cas89Ul43hqHffXT/hhZh6YfO8aHThIQuX6IRxJrK3X13carjnbsa50+lFU9HQRmSVbgO+QtdCRlj6zIvTWUiMjyOKcoV9+Ut/rnJmuSMomUcuORiLRxzMpL3G1JO8e0tbp1fvsIzJasQLXvLXRJVhIXgiJLObeL+1ZWVyoSPcshZG370D/9t/Z6b6dDJ0lG/9ZuklX9oVvwodtg9Ht9MsY6vh4CsyYrsI29hY6kzltBE1GS0cYKRPKiq5zjtkh27WGr1YdASaL038pzxU9f2SdJRX999/q2ZDU2+6T/tCUmxJBjTN8ZXx1fD4HZk3UMOhK/l9hjfebaBjkhGHWVZSJQZJ3xvHp77urZuyOY8fAq9AaBRZO1GWudFgKzRqDIOuvpq+DXhECRdU2zXWOdNQJF1llPXwW/JgSKrGua7RrrrBEosp5x+vLZZvuc0meb7pw6o9sytRIEiqwXmGg2GrRkxQ2bDvzSgG4lsY9fcpOCOlOr3TxRj4pud2ZWR9Z6C93/7xfOuwAuFEm83kUl07LeQpdo3N7x6sh66EutmAI3HeRWvXZqeol97Mras4/MW+beTixjw5ft1PUWunaGlnO+OrIydYcStkdEp769fc2V6ViyegucKxz2eyTGT+qjg4zb7vb1G/UWOmdrGfUqySph6y10721JDvl7F4ZeinMhai8W6CHn0xYueO0X5dHxAsMdQruvGTu011vodtFcJVkPfbmV/69rE5lE8gsCJi8yC7Jj/sDU2scOslZuPPiCBNwmo8N5b2VFh/ZeLMaqr9QZuqOAWNgjDkqSjDHzacsYWR1f4kl/+9Rb6HbRXB1ZDyWqMJE4kMLVhMSSNMjyK3a0qWdNAqe+cslBwpq0+qQek2ODi0W9hS4RW/7xKslab6GbdmJzceNixUpe5QcIrI6sPxh6HU0NAf/C7V/BpxbfteMpsl57Bsp/IXAgAkXWA4EqtULg2ggUWa89A+W/EDgQgSLrgUCVWiFwbQSKrNeegfJfCByIQJH1QKB8Vsqz1NsqPKPlmeohPv1Lam9jgs9/e23nGsvzr/7X5qc+/XebF197c/Pjn/rrzV+8+B/nMr3Xzhtvvbv1+et//C97dU9RYGy/+Pl/2LzzP+8/6t6TPWo88gCsPvLZr2++9vIbmx/71Fc32O6VImsPlY7sGmTthDEoGiPrYKczNkjWO2/c2ya2CUcifvDJ5x59LkWoMw7lMVM9YvZkj3U8UCBZwQ7ScvHplSJrD5WQubq588hVztUKee5ASn13KWkOPe24yiFjJxI7kmhLOef5zJELRr7ljnbiyFi0b0wZj7ETjxef9CHhe2+ro8/QNkTaxsgqQVmZSEaS02RnxYLMrMYmKfoS/Km/enkL3+988YXtReCHP/6Xm08+841tO3ZcVdFXd9ths9n60Q5+XRnzAmJs9mnrjEVbvfj32cc3thgHdhgHGFCwR/8ia4v+Eeckt2QxuZGRtJAGWStHP0mhO0jjfmJl1JBKH/RLnZYc+vIigE2PJZpkTx/2My51k9D45UVb2DOGtI+9Np70MXRMIkqIlqwkLO0UdDhOfYjIrTVJTTsfCEliQ9gkJ8d5Tl/0vAAYH+fYkbj6tb1Xe2GxDzrIjB85Fx1kQ/YdO/4obbw9v62sVtYWkTjPZM2EJ+ldwazRVQeZJMKc5OgRCcJImnC9PWzJoX1Jl+Qe89H2w25eVPTjV+qMM8ffxnboOeRzRaKWUD0CYLMlD/oSmNrzNtnbc23lCoasjYeYkI2VXqytzLiH7CehjUPijvnOtiJrotEcZ7Jmwqe86bI9lcyumGNEWgNZe0nZJrs4mvSeS07lnrfkbM/t74rmbTZk6sWjfq/uxdrKjG/IfpG1h+wZZblySUDqdmXquWx1IKW3l6l/Klm9ALgqt+fpIy80yFtdLz5v37u3vSPgnKIcfYorMPWhZSh522TXHqSTTNxS5m0wto4lK3aTKPjFZnt7rB63znzoY0G3vaVu45esQ/YzBuwO4aLPXl0raw+VhzKTmtta/o/KB7JSSGRvgV1BJahyiYR+2qLdth5ZW130ua325c3az1ttfHhBae2rT+0FI2M1fv1ek6yMg8T31pmkVtYjK+TgVld9b3shGKupckhu4Vi5+rRBqB5Z9W8f4hgiK7o9+0VW0V9J3a6QKxl2DfMhArWyzigViqwzmqwLhFpkvQCoZbIQuAQCRdZLoFo2C4ELIFBkvQCoZbIQuAQCRdZLoFo2C4ELIFBkvQCoZbIQuAQCRdZLoHoGm+0zz5ua5Hmuz4h7tnxGO6bT65eyfT5St46PR6DIejxmt9LjVLLmZgc3QBDwbRDpNnzcCvgTdbI6sh7zFjlWGXYJ8UPeufvH553uDCJJKcjzK2zuDLIN8rR2evquctqn1ge2aE8ibp2Hf7cDshPJftS9r77lTqy06cUC3zkOfGUfjvMCYczt7ipjrPp0BFZH1kNfSgWkkoaENHk5zkKifujDT2wTVhKbqBCEj32xR1E+pI+OfVp/tA2RFTm2LdgnFmrkxkXM7ftn8IcOuhT8Gm/qI9OOfqzpbx9lVZ8PgdWRFegOJSyJl6sNyciHQu0qQo2u5GsTVnnqk/Du9VU/7Y+RdWj6sWN86CQBkeuHeCSxtlJX32286mjHvtbpQ1nV50NglWQFPgi77y1yJGWPrMi9NZSIyPI4pyhX35S3+ucma5IyiZRy45GItHHMykvcbUk7x7S1unV+PAKrJOuhL6dKspK4EBRZyrld3LeyulKR6FkOIWvbh/7pv7XH/4ElGbHZP0lGf+X2T7Iio33oFnzoNhj9Xh99VH0zBFZH1kOJCqwkdd4KmoiSjLZ8i5xy+rVFsmsPW60+BEkSpf9Wnit++so+SSr667vXtyWrsdkn/actMSGGHGP6zvjq+HQEVknWQ98iR+L3Evt0uKfbE3K2/4+dbrTrjGx1ZD1mmpdOVm/PXT0Zb5XpIlBkne7cVGSFwA4CRdYdOOqkEJguAkXW6c5NRVYI7CBQZN2Bo04KgekiUGSd7txUZIXADgKTJyvP7tx7uxP5LZ3ws5P8POW+N3zdJBx88DOX1IcUf6M2df292mu8xS3jqOPLIVBk3YOtZN330qA9Zs7aPEbW9i1uZ3Vcxq6KwKTJmjtl8lkg8twh4/k//tM/b+XtV9pAOHfktBsdxp6nDpE1f0Q6fygaX70fqeaHn3mDmD88jQ7FVbW1ga5vS7Ot/UFrVmN/Pd6Vtci6hXWR/0yarCDeuw1OcklCZHwgNVvgfOCfx7RTIDcfS9pTtq/urW70gZQSMW0g930r7esY2l9rpx82JKIXDPRsQ1ZlXQjMkqwtQV0pW9JJSvVdnalzZT5lyl0RIaGlRzrb0Etd5dS9fnkxaMmdbWmnjpeNwCzJypRIRGtkQ2Ttrc7nmlYI6B+HeqTTz03JCkFrZRXNddazIKtfTcsp8hsefq+UtiSr7ci8Jc5b37SV/VJ+6HESkWOI1ZbUadt6JM/Vs7U5Zqu1XefLQWDyZAVqSOYtLMSiSMC8naVNPeqhr2+1baeQFTL5VjH/b0lcEI9z2/y/5RDBkKtLra0h+/jIPzSpvwWl/lk0ArMga28G/H+o5EXnFNL1bE9BlivrFOKpGK6PwCzJ6kqbKydQFlmvn1AVweUQmCVZLwdHWS4EpotAkXW6c1ORFQI7CBRZd+Cok0JguggUWac7NxVZIbCDQJF1B446KQSmi0CRdbpzU5EVAjsIFFl34KiTQmC6CBRZpzs3FVkhsINAkXUHjjopBKaLQJF1unNTkRUCOwgUWXfgqJNCYLoIFFmnOzcVWSGwg0CRdQeOOikEpotAkXW6c1ORFQI7CBRZd+Cok0JguggUWac7NxVZIbCDQJF1B446KQSmi0CRdbpzU5EVAjsI/B80O8WOfK9jYQAAAABJRU5ErkJggg==)"
      ]
    },
    {
      "cell_type": "code",
      "metadata": {
        "id": "1oXfmVPl3_Ua"
      },
      "source": [
        "# Description: Search the tracking status for each unique script url's in the stack\n",
        "# input: dataset = complete http_req table with easylist and easyprivacylist flags\n",
        "# input: callstack = call stack object as shown above\n",
        "# return: it returns 1 if any ancestoral node has tracking status otherwise 0\n",
        "def CheckAncestoralNodes(dataset,callstack):\n",
        "  # handling non-script type\n",
        "  if callstack['type'] != 'script': return None\n",
        "  # unique scripts in the stack\n",
        "  unique_scripts = []\n",
        "  # recursively insert unique scripts in the stack\n",
        "  rec_stack_checker(callstack[\"stack\"], unique_scripts)\n",
        "  # check the tracking status of the unique scripts\n",
        "  return check_script_url(dataset, unique_scripts)\n",
        "\n",
        "# Description: Search the tracking status for each unique script url's in the stack\n",
        "# input: dataset = complete http_req table with easylist and easyprivacylist flags\n",
        "# input: unique_scripts = unique scripts in the given stack\n",
        "# return: it returns 1 if any unique script url has tracking status otherwise 0\n",
        "def check_script_url(dataset, unique_scripts):\n",
        "  for i in range(len(unique_scripts)):\n",
        "    for j in dataset.index:\n",
        "      if dataset['http_req'][j] == unique_scripts[i]: \n",
        "        if dataset['easylistflag'][j] == 1 or dataset['easyprivacylistflag'][j] == 1: return 1\n",
        "  return 0\n",
        "\n",
        "\n",
        "# Description: it appends the unique script url's recursively\n",
        "# input: stack = stack object as shown in the image above\n",
        "# input: unique_scripts = unique scripts in the given stack\n",
        "# return: nothing\n",
        "def rec_stack_checker(stack, unique_scripts):\n",
        "  # append unique script_url's \n",
        "  for item in stack['callFrames']:\n",
        "    if item['url'] not in unique_scripts:\n",
        "      unique_scripts.append(item['url'])\n",
        "  # if parent object doen't exist return (base-case)\n",
        "  if 'parent' not in stack.keys(): return\n",
        "  # else send a recursive call for this\n",
        "  else: rec_stack_checker(stack['parent'], unique_scripts)"
      ],
      "execution_count": null,
      "outputs": []
    },
    {
      "cell_type": "markdown",
      "metadata": {
        "id": "mimqr6OXOsrh"
      },
      "source": [
        "#### Dependency Graph Plotter\n",
        "\n",
        "![image.png](data:image/png;base64,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)"
      ]
    },
    {
      "cell_type": "code",
      "metadata": {
        "id": "FCmUXKazOszF"
      },
      "source": [
        "def dependency_graph(dataset):\n",
        "  # syntax: {\"url+functionName+lineNumber+columnNumber\": [\"label\", count]}\n",
        "  # count +1 for tracking & -1 for non-tracking\n",
        "  unique_nodes = {}\n",
        "  unique_edges = []\n",
        "  label = [1]\n",
        "  plot = Digraph(comment='The Round Table')\n",
        "  for i in dataset.index:\n",
        "    # handling non-script type\n",
        "    if dataset['call_stack'][i]['type'] != 'script': pass\n",
        "    else:\n",
        "      # recursively add uniques nodes in the graph\n",
        "      # if its tracking http call then update the tracking count of all scripts in that stack\n",
        "      if dataset['easylistflag'][i] == 1 or dataset['easyprivacylistflag'][i] == 1 or dataset['ancestorflag'][i] == 1:\n",
        "        rec_stack_nodes_adder(dataset['call_stack'][i]['stack'], unique_nodes, label, 1, plot)\n",
        "      # if its non-tracking http call then update the non-tracking count of all scripts in that stack\n",
        "      else:\n",
        "        rec_stack_nodes_adder(dataset['call_stack'][i]['stack'], unique_nodes, label, 0, plot)\n",
        "      # recursively add edges in the graph\n",
        "      rec_plot_edges(dataset['call_stack'][i]['stack'], unique_nodes, unique_edges, plot, None)\n",
        "  print(unique_nodes)\n",
        "  # rendering the plot\n",
        "  plot.render('/test-output/dp_graph.gv', view=True)\n",
        "  #print(plot.source)\n",
        "\n",
        "# Description: it creates edges in the plot recursively\n",
        "# input: stack = stack object as shown in the image above\n",
        "# input: unique_nodes = unique nodes in the given website trace \n",
        "# input: unique_edges = unique edges in the given website trace \n",
        "# input: plot = dot plot object \n",
        "# input: prev = It is set when we are jumping from base to parent and initially not set\n",
        "# return: nothing\n",
        "def rec_plot_edges(stack, unique_nodes, unique_edges, plot, prev):\n",
        "  for i in range(len(stack['callFrames'])-1):\n",
        "    if prev is not None:\n",
        "     # if edge is not already created only then create that edge (prev-condition)\n",
        "     if (unique_nodes[stack['callFrames'][i]['url']+\"@\"+stack['callFrames'][i]['functionName']+\"@\"+str(stack['callFrames'][i]['lineNumber'])+\"@\"+str(stack['callFrames'][i]['columnNumber'])][0]\n",
        "              , prev) not in unique_edges:\n",
        "              # create edge\n",
        "              plot.edge(unique_nodes[stack['callFrames'][i]['url']+\"@\"+stack['callFrames'][i]['functionName']+\"@\"+str(stack['callFrames'][i]['lineNumber'])+\"@\"+str(stack['callFrames'][i]['columnNumber'])][0]\n",
        "              , prev)\n",
        "              # append edge in the list\n",
        "              unique_edges.append((unique_nodes[stack['callFrames'][i]['url']+\"@\"+stack['callFrames'][i]['functionName']+\"@\"+str(stack['callFrames'][i]['lineNumber'])+\"@\"+str(stack['callFrames'][i]['columnNumber'])][0]\n",
        "              , prev))\n",
        "     # if edge is not already created only then create that edge (base-condition)\n",
        "    if (unique_nodes[stack['callFrames'][i+1]['url']+\"@\"+stack['callFrames'][i+1]['functionName']+\"@\"+str(stack['callFrames'][i+1]['lineNumber'])+\"@\"+str(stack['callFrames'][i+1]['columnNumber'])][0]\n",
        "              , unique_nodes[stack['callFrames'][i]['url']+\"@\"+stack['callFrames'][i]['functionName']+\"@\"+str(stack['callFrames'][i]['lineNumber'])+\"@\"+str(stack['callFrames'][i]['columnNumber'])][0]) not in unique_edges:\n",
        "              # create edge\n",
        "              plot.edge(unique_nodes[stack['callFrames'][i+1]['url']+\"@\"+stack['callFrames'][i+1]['functionName']+\"@\"+str(stack['callFrames'][i+1]['lineNumber'])+\"@\"+str(stack['callFrames'][i+1]['columnNumber'])][0]\n",
        "              , unique_nodes[stack['callFrames'][i]['url']+\"@\"+stack['callFrames'][i]['functionName']+\"@\"+str(stack['callFrames'][i]['lineNumber'])+\"@\"+str(stack['callFrames'][i]['columnNumber'])][0])\n",
        "              # append edge in the list\n",
        "              unique_edges.append((unique_nodes[stack['callFrames'][i+1]['url']+\"@\"+stack['callFrames'][i+1]['functionName']+\"@\"+str(stack['callFrames'][i+1]['lineNumber'])+\"@\"+str(stack['callFrames'][i+1]['columnNumber'])][0]\n",
        "              , unique_nodes[stack['callFrames'][i]['url']+\"@\"+stack['callFrames'][i]['functionName']+\"@\"+str(stack['callFrames'][i]['lineNumber'])+\"@\"+str(stack['callFrames'][i]['columnNumber'])][0]))\n",
        "  # if parent object doen't exist return (base-case)\n",
        "  if 'parent' not in stack.keys(): return\n",
        "  # in case where base is empty but parent exists\n",
        "  elif len(stack['callFrames']) == 0: rec_plot_edges(stack['parent'], unique_nodes, unique_edges, plot, None)\n",
        "  # else send recursive call for parent and set the prev\n",
        "  else: rec_plot_edges(stack['parent'], \n",
        "                          unique_nodes, unique_edges, plot, unique_nodes[stack['callFrames'][len(stack['callFrames'])-1]['url']+\"@\"+stack['callFrames'][len(stack['callFrames'])-1]['functionName']+\"@\"+\n",
        "                                                                  str(stack['callFrames'][len(stack['callFrames'])-1]['lineNumber'])+\"@\"+str(stack['callFrames'][len(stack['callFrames'])-1]['columnNumber'])][0])\n",
        "\n",
        "\n",
        "# Description: it appends the unique node url+functionname+linenumber+columnnumber recursively\n",
        "# input: stack = stack object as shown in the image above\n",
        "# input: unique_nodes = unique nodes in the given stack \n",
        "# input: label = its the label for the uique node\n",
        "# input: plot = dot plot object \n",
        "# return: nothing\n",
        "def rec_stack_nodes_adder(stack, unique_nodes, label, trackingflag, plot):\n",
        "  # append unique script_url's \n",
        "  for item in stack['callFrames']:\n",
        "    if item['url']+\"@\"+item['functionName']+\"@\"+str(item['lineNumber'])+\"@\"+str(item['columnNumber']) not in unique_nodes.keys():\n",
        "      unique_nodes[item['url']+\"@\"+item['functionName']+\"@\"+str(item['lineNumber'])+\"@\"+str(item['columnNumber'])] =  [str(label[0]), 0, 0]\n",
        "      plot.node( str(label[0]), item['url']+\"@\"+item['functionName']+\"@\"+str(item['lineNumber'])+\"@\"+str(item['columnNumber']))\n",
        "      label[0] += 1\n",
        "    # if its tracking call then +1 the tracking count for that node\n",
        "    if trackingflag == 1:\n",
        "      unique_nodes[item['url']+\"@\"+item['functionName']+\"@\"+str(item['lineNumber'])+\"@\"+str(item['columnNumber'])][1] += 1\n",
        "    # elsw if its non-tracking call then +1 the non-tracking count for that node\n",
        "    else:\n",
        "      unique_nodes[item['url']+\"@\"+item['functionName']+\"@\"+str(item['lineNumber'])+\"@\"+str(item['columnNumber'])][2] += 1\n",
        "  # if parent object doen't exist return (base-case)\n",
        "  if 'parent' not in stack.keys(): return\n",
        "  # else send a recursive call for this\n",
        "  else: rec_stack_nodes_adder(stack['parent'], unique_nodes, label, trackingflag, plot)"
      ],
      "execution_count": null,
      "outputs": []
    },
    {
      "cell_type": "markdown",
      "metadata": {
        "id": "aRGw4hZ-_TxV"
      },
      "source": [
        "#### Intilization\n",
        "Pass complete dataset and it will add columns for:\n",
        "- EasyList\n",
        "- EasyPrivacyList\n",
        "- AncestorFlag\n",
        "\n",
        "All of these are boolean(0/1) flags where:\n",
        "- 0 means non-tracking status\n",
        "- 1 means tracking status\n",
        "\n",
        "`df = intilization('/output.json')`"
      ]
    },
    {
      "cell_type": "code",
      "metadata": {
        "id": "7y_bum6a_ggv"
      },
      "source": [
        "# Description: Handles all initilization process like EasyList, EasyPrivacyList, Ancestor Flags\n",
        "# input: JSONfile_path = file containg the http request data \n",
        "# return: returns updated dataframe\n",
        "def intilization(JSONfile_path):\n",
        "  # reading file as dataframe\n",
        "  dataset = pd.read_json(JSONfile_path, lines=True)\n",
        "  with open(\"logs.txt\",\"a\") as log: log.write(\"\\n----------[intilization] JSON reading complete------------\"); log.close()\n",
        "  # adding easylistflag column\n",
        "  dataset['easylistflag'] = dataset.apply(lambda row: CheckTrackingReq(easylist, row.http_req,row.top_level_url, row.resource_type), axis = 1)\n",
        "  with open(\"logs.txt\",\"a\") as log: log.write(\"\\n----------[intilization] easylistflag column added------------\"); log.close()\n",
        "  # adding easyprivacylistflag column\n",
        "  dataset['easyprivacylistflag'] = dataset.apply(lambda row: CheckTrackingReq(easyPrivacylist, row.http_req,row.top_level_url, row.resource_type), axis = 1)\n",
        "  with open(\"logs.txt\",\"a\") as log: log.write(\"\\n----------[intilization] EasyPrivacylistflag column added------------\"); log.close()\n",
        "\n",
        "  # extracting unique top_level_url\n",
        "  sites = dataset['top_level_url'].unique()\n",
        "  # returning dataset\n",
        "  retDataset = pd.DataFrame()\n",
        "  # adding ancestoral flag\n",
        "  # extracting site by site data\n",
        "  for site in sites:\n",
        "    df = dataset.loc[dataset['top_level_url'] == site]\n",
        "    df[\"ancestorflag\"] = df.apply(lambda row: CheckAncestoralNodes(df, row.call_stack), axis = 1)\n",
        "    retDataset = retDataset.append(df)\n",
        "  with open(\"logs.txt\",\"a\") as log: log.write(\"\\n----------[intilization] AncestoralFlag column added------------\"); log.close()\n",
        "  \n",
        "  # return dataset\n",
        "  return retDataset"
      ],
      "execution_count": null,
      "outputs": []
    },
    {
      "cell_type": "markdown",
      "metadata": {
        "id": "Jw0dxAWCFGpS"
      },
      "source": [
        "#### Distribution Graph Plotter\n",
        "> Xvfb :99 &\n",
        "export DISPLAY=:99\n",
        "\n",
        "\n",
        "`DistGraphPlotter(dataset, 'domain')`\n",
        "\n"
      ]
    },
    {
      "cell_type": "code",
      "metadata": {
        "id": "4BEF6-prFNhg"
      },
      "source": [
        "# Description: Creates distribution plot\n",
        "# input: dataset = file containing complete columns EL, EPL, AF\n",
        "# input: dickey = 'domain', 'hostname', 'script'\n",
        "# return: nothing just creates plot\n",
        "def DistGraphPlotter(dataset, dickey):\n",
        "  # dictionary for storing key value pairs\n",
        "  # key as specified in input parameter\n",
        "  # value is a list = [tracking_calls, non-tracking_calls]\n",
        "  dic={}\n",
        "  # iterating complete dataset\n",
        "  for i in dataset.index:\n",
        "    # handling non-script type\n",
        "    if dataset['call_stack'][i]['type'] != 'script': pass\n",
        "    else:\n",
        "      # handling input key specification\n",
        "      if dickey == 'domain':\n",
        "         key = getDomain(dataset['http_req'][i])\n",
        "      elif dickey == 'hostname':\n",
        "        pass\n",
        "      elif dickey == 'script':\n",
        "        pass\n",
        "\n",
        "      # inserting dickey as a new pair\n",
        "      if key not in dic.keys():\n",
        "        if dataset['easylistflag'][i] == 1 or dataset['easyprivacylistflag'][i] == 1 or dataset['ancestorflag'][i] == 1:\n",
        "          dic[key] = [1, 0]\n",
        "        else:\n",
        "          dic[key] = [0, 1]\n",
        "      # updating dickey if it exits already\n",
        "      else:\n",
        "        if dataset['easylistflag'][i] == 1 or dataset['easyprivacylistflag'][i] == 1 or dataset['ancestorflag'][i] == 1:\n",
        "          dic[key][0] += 1\n",
        "        else:\n",
        "          dic[key][1] += 1\n",
        "      with open(\"logs.txt\",\"a\") as log: logs.write(\"\\n----------[DistGraphPlotter] dictionary created------------\"); log.close()\n",
        "      # creating dataframe for dist graph plotting\n",
        "  data = []\n",
        "  for i in dic.keys():\n",
        "      # calculating ratio i.e log10 (tracking_calls/non-tracking_calls)\n",
        "      data.append((i, dic[i][0], dic[i][1], math.log((dic[i][0]+0.001)/(dic[i][1]+0.001), 10)))\n",
        "  df = pd.DataFrame(\n",
        "          data,\n",
        "          columns=[dickey, \"tracking_calls\", \"non-tracking_calls\", \"log10 (tracking_calls/non-tracking_calls)\"])\n",
        "  with open(\"logs.txt\",\"a\") as log: logs.write(\"\\n----------[DistGraphPlotter] dictionary to dataframe conversion completed------------\"); log.close()\n",
        "  # creating distplot using sns\n",
        "  sns.displot(data=df, x=\"log10 (tracking_calls/non-tracking_calls)\", kde=True,stat=\"probability\").savefig(\"Domain.png\")"
      ],
      "execution_count": null,
      "outputs": []
    },
    {
      "cell_type": "markdown",
      "metadata": {
        "id": "W56hehLdJFdw"
      },
      "source": [
        "### DataFrame to Excel\n",
        "\n",
        "\n",
        "`df_to_excel(dataset, 'test.xlsx')`\n"
      ]
    },
    {
      "cell_type": "code",
      "metadata": {
        "id": "jhtOrL7sJJGP"
      },
      "source": [
        "# Description: Converts dataframe to excel file\n",
        "# input: dataset = dataframe to be converted\n",
        "# input: filename = name of the csv file 'test.xlsx'\n",
        "# return: nothing\n",
        "def df_to_excel(dataset, filename):\n",
        "  writer = pd.ExcelWriter(filename, engine='xlsxwriter',options={'strings_to_urls': False})\n",
        "  dataset.to_excel(writer)\n",
        "  writer.close()"
      ],
      "execution_count": null,
      "outputs": []
    },
    {
      "cell_type": "markdown",
      "metadata": {
        "id": "g4d-Jy9YJSia"
      },
      "source": [
        "## Main Testing\n"
      ]
    },
    {
      "cell_type": "markdown",
      "metadata": {
        "id": "RoyCSX3CiYYY"
      },
      "source": [
        "#### Testing Graph Plotter"
      ]
    },
    {
      "cell_type": "code",
      "metadata": {
        "id": "UZ6d83IexNgn"
      },
      "source": [
        "df=intilization('/content/request.json')"
      ],
      "execution_count": null,
      "outputs": []
    },
    {
      "cell_type": "code",
      "metadata": {
        "id": "FOV_TGqQzvOb"
      },
      "source": [
        "df"
      ],
      "execution_count": null,
      "outputs": []
    },
    {
      "cell_type": "code",
      "metadata": {
        "id": "ZdKdHoZByNXt"
      },
      "source": [
        "DistGraphPlotter(df, 'domain')"
      ],
      "execution_count": null,
      "outputs": []
    },
    {
      "cell_type": "code",
      "metadata": {
        "id": "Ao9nFZOiJSup"
      },
      "source": [
        "dataset = pd.read_json(r'/output.json', lines=True)\n",
        "#dataset\n",
        "dataset['easylistflag'] = dataset.apply(lambda row: CheckTrackingReq(easylist, row.http_req,row.top_level_url, row.resource_type), axis = 1)\n",
        "dataset['easyprivacylistflag'] = dataset.apply(lambda row: CheckTrackingReq(easyPrivacylist, row.http_req,row.top_level_url, row.resource_type), axis = 1)\n",
        "dataset"
      ],
      "execution_count": null,
      "outputs": []
    },
    {
      "cell_type": "code",
      "metadata": {
        "id": "O7VdgEu7TanD"
      },
      "source": [
        "dataset"
      ],
      "execution_count": null,
      "outputs": []
    },
    {
      "cell_type": "code",
      "metadata": {
        "id": "TuQ9CeXHUSUC"
      },
      "source": [
        "df = dataset\n",
        "dataset[\"ancestorflag\"] = dataset.apply(lambda row: CheckAncestoralNodes(df, row.call_stack), axis = 1)"
      ],
      "execution_count": null,
      "outputs": []
    },
    {
      "cell_type": "code",
      "metadata": {
        "id": "8XOV9sDkViAd"
      },
      "source": [
        "writer = pd.ExcelWriter(r'output.xlsx', engine='xlsxwriter',options={'strings_to_urls': False})\n",
        "df.to_excel(writer)\n",
        "writer.close()"
      ],
      "execution_count": null,
      "outputs": []
    },
    {
      "cell_type": "code",
      "metadata": {
        "id": "Eck97kJLVjGD"
      },
      "source": [
        "dependency_graph(dataset)"
      ],
      "execution_count": null,
      "outputs": []
    },
    {
      "cell_type": "markdown",
      "metadata": {
        "id": "CO6M53-IickA"
      },
      "source": [
        "#### Testing Domain Graph"
      ]
    },
    {
      "cell_type": "code",
      "metadata": {
        "id": "RRhCvOEgig-l"
      },
      "source": [
        "dataset = pd.read_json(r'/content/request.json', lines=True)\n",
        "dataset"
      ],
      "execution_count": null,
      "outputs": []
    },
    {
      "cell_type": "code",
      "metadata": {
        "id": "TSUAWO1Tj9lz"
      },
      "source": [
        "sites = cmpdataset['top_level_url'].unique()"
      ],
      "execution_count": null,
      "outputs": []
    },
    {
      "cell_type": "code",
      "metadata": {
        "id": "DyF3HF-ZkTEB"
      },
      "source": [
        "sites"
      ],
      "execution_count": null,
      "outputs": []
    },
    {
      "cell_type": "code",
      "metadata": {
        "id": "Q0fLyP1TkUeg"
      },
      "source": [
        "df = cmpdataset.loc[cmpdataset['top_level_url'] == 'https://www.express.co.uk/']\n",
        "df"
      ],
      "execution_count": null,
      "outputs": []
    },
    {
      "cell_type": "code",
      "metadata": {
        "id": "HkVCqSuGkeVx"
      },
      "source": [
        "cmpdataset['easylistflag'] = cmpdataset.apply(lambda row: CheckTrackingReq(easylist, row.http_req,row.top_level_url, row.resource_type), axis = 1)\n",
        "cmpdataset['easyprivacylistflag'] = cmpdataset.apply(lambda row: CheckTrackingReq(easyPrivacylist, row.http_req,row.top_level_url, row.resource_type), axis = 1)"
      ],
      "execution_count": null,
      "outputs": []
    },
    {
      "cell_type": "code",
      "metadata": {
        "id": "e7ZKQ1u4wVyC"
      },
      "source": [
        "cmpdataset"
      ],
      "execution_count": null,
      "outputs": []
    },
    {
      "cell_type": "code",
      "metadata": {
        "id": "Cjsx2rJ1waex"
      },
      "source": [
        "for site in sites:\n",
        "  df = cmpdataset.loc[cmpdataset['top_level_url'] == site]\n",
        "  df[\"ancestorflag\"] = df.apply(lambda row: CheckAncestoralNodes(df, row.call_stack), axis = 1)\n",
        "  mainDF = mainDF.append(df)"
      ],
      "execution_count": null,
      "outputs": []
    },
    {
      "cell_type": "code",
      "metadata": {
        "id": "Na-aBb8DwvbH"
      },
      "source": [
        "mainDF=pd.DataFrame()"
      ],
      "execution_count": null,
      "outputs": []
    },
    {
      "cell_type": "code",
      "metadata": {
        "id": "gd9DeaVcvNgW"
      },
      "source": [
        "dataset=mainDF"
      ],
      "execution_count": null,
      "outputs": []
    },
    {
      "cell_type": "code",
      "metadata": {
        "id": "DUzdz7HfvQu-"
      },
      "source": [
        "dic={}\n",
        "for i in dataset.index:\n",
        "  if dataset['call_stack'][i]['type'] != 'script': pass\n",
        "  else:\n",
        "    if getDomain(dataset['http_req'][i]) not in dic.keys():\n",
        "      if dataset['easylistflag'][i] == 1 or dataset['easyprivacylistflag'][i] == 1 or dataset['ancestorflag'][i] == 1:\n",
        "        dic[getDomain(dataset['http_req'][i])] = [1, 0]\n",
        "      else:\n",
        "        dic[getDomain(dataset['http_req'][i])] = [0, 1]\n",
        "    else:\n",
        "      if dataset['easylistflag'][i] == 1 or dataset['easyprivacylistflag'][i] == 1 or dataset['ancestorflag'][i] == 1:\n",
        "        dic[getDomain(dataset['http_req'][i])][0] += 1\n",
        "      else:\n",
        "        dic[getDomain(dataset['http_req'][i])][1] += 1\n",
        "\n"
      ],
      "execution_count": null,
      "outputs": []
    },
    {
      "cell_type": "code",
      "metadata": {
        "id": "AFDzJ-FN4nLO"
      },
      "source": [
        "data = []\n",
        "for i in dic.keys():\n",
        "    data.append((i, dic[i][0], dic[i][1], math.log((dic[i][0]+0.001)/(dic[i][1]+0.001), 10)))\n",
        "df2 = pd.DataFrame(\n",
        "         data,\n",
        "         columns=[\"Domain\", \"tracking calls\", \"benign calls\", \"ratio\"])\n",
        "df2.to_excel(r'/DomainAnalysis.xlsx')"
      ],
      "execution_count": null,
      "outputs": []
    },
    {
      "cell_type": "code",
      "metadata": {
        "colab": {
          "base_uri": "https://localhost:8080/",
          "height": 387
        },
        "id": "LcAneWpv944r",
        "outputId": "6903557c-4b49-427f-b1ad-1aeae4ec8763"
      },
      "source": [
        "sns.displot(data=df2, x=\"ratio\", kde=True,stat=\"probability\")"
      ],
      "execution_count": null,
      "outputs": [
        {
          "output_type": "execute_result",
          "data": {
            "text/plain": [
              "<seaborn.axisgrid.FacetGrid at 0x7f574f382990>"
            ]
          },
          "metadata": {
            "tags": []
          },
          "execution_count": 34
        },
        {
          "output_type": "display_data",
          "data": {
            "image/png": "[encoded data removed]",
            "text/plain": [
              "<Figure size 360x360 with 1 Axes>"
            ]
          },
          "metadata": {
            "tags": [],
            "needs_background": "light"
          }
        }
      ]
    },
    {
      "cell_type": "code",
      "metadata": {
        "id": "erl2xxTT-FT7"
      },
      "source": [
        "df=dataset\n",
        "writer = pd.ExcelWriter(r'Intilization.xlsx', engine='xlsxwriter',options={'strings_to_urls': False})\n",
        "df.to_excel(writer)\n",
        "writer.close()"
      ],
      "execution_count": null,
      "outputs": []
    },
    {
      "cell_type": "code",
      "metadata": {
        "id": "5gIL54kO-6t2"
      },
      "source": [
        "dataset.rename(columns = {'top_level_url':'frame_url'}, inplace = True)\n",
        "dataset"
      ],
      "execution_count": null,
      "outputs": []
    },
    {
      "cell_type": "code",
      "metadata": {
        "id": "IrbPm6URDOB1"
      },
      "source": [
        "def getTopUrl(frame_Url, header):\n",
        "  if 'Referer' in header.keys():\n",
        "    return header['Referer']\n",
        "  else:\n",
        "    return frame_Url"
      ],
      "execution_count": null,
      "outputs": []
    },
    {
      "cell_type": "code",
      "metadata": {
        "id": "CvW9l3e6D7eK"
      },
      "source": [
        "dataset['top_level_url'] = dataset.apply(lambda row: getTopUrl(row.frame_url, row.header), axis = 1)"
      ],
      "execution_count": null,
      "outputs": []
    },
    {
      "cell_type": "code",
      "metadata": {
        "id": "EKidLh9JEsch"
      },
      "source": [
        "dataset"
      ],
      "execution_count": null,
      "outputs": []
    },
    {
      "cell_type": "code",
      "metadata": {
        "id": "fMrYi-25E1Z7"
      },
      "source": [
        "df_to_excel(dataset, 'test.xlsx')"
      ],
      "execution_count": null,
      "outputs": []
    },
    {
      "cell_type": "markdown",
      "metadata": {
        "id": "pVn8Gy__QOSE"
      },
      "source": [
        "#### Proper Main Driver"
      ]
    },
    {
      "cell_type": "code",
      "metadata": {
        "id": "q_KSsgcgQS9t"
      },
      "source": [
        "with open(\"logs.txt\",\"a\") as log: log.write(\"\\n----------[Main] Starting------------\"); log.close()\n",
        "with open(\"logs.txt\",\"a\") as log: log.write(\"\\n----------[Main] In intiliazation------------\"); log.close()\n",
        "dataset = intilization('/request.json')\n",
        "with open(\"logs.txt\",\"a\") as log: log.write(\"\\n----------[Main] Out Intiliazation------------\"); log.close()\n",
        "with open(\"logs.txt\",\"a\") as log: log.write(\"\\n----------[Main] In df_to_excel------------\"); log.close()\n",
        "df_to_excel(dataset, 'PartialAnalysis.xlsx')\n",
        "with open(\"logs.txt\",\"a\") as log: log.write(\"\\n----------[Main] Out df_to_excel------------\"); log.close()\n",
        "with open(\"logs.txt\",\"a\") as log: log.write(\"\\n----------[Main] In DistGraphPlotter------------\"); log.close()\n",
        "DistGraphPlotter(dataset, 'domain')"
      ],
      "execution_count": null,
      "outputs": []
    }
  ]
}